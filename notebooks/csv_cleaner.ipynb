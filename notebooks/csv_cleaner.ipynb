{
 "cells": [
  {
   "cell_type": "markdown",
   "id": "38e46499-44f9-4c4c-ae1e-8d8ffdd2b570",
   "metadata": {},
   "source": [
    "# HarperDB Book Recommender CSV Cleaner\n",
    "\n",
    "This notebook cleans the original dataset from [Kaggle](https://www.kaggle.com/datasets/arashnic/book-recommendation-dataset) to make it more useful for this project."
   ]
  },
  {
   "cell_type": "code",
   "execution_count": null,
   "id": "dc9ea061-718e-407f-bbfd-ba13ea47163e",
   "metadata": {},
   "outputs": [],
   "source": [
    "import csv\n",
    "base_dir = '/home/ubuntu/data'\n",
    "original_dir = base_dir + '/original'\n",
    "clean_dir = base_dir + '/clean'"
   ]
  },
  {
   "cell_type": "code",
   "execution_count": null,
   "id": "c6028c17-d684-4ce7-90e1-9c762814b11b",
   "metadata": {},
   "outputs": [],
   "source": [
    "objectNames = ['Users', 'Books', 'Ratings']\n",
    "for objectName in objectNames:\n",
    "    print(objectName)\n",
    "    with open('{}/{}.csv'.format(original_dir, objectName)) as file:\n",
    "        print(file.readline())\n",
    "    print()"
   ]
  },
  {
   "cell_type": "code",
   "execution_count": null,
   "id": "3b4b268e-50f9-4cc1-a950-d03844571327",
   "metadata": {},
   "outputs": [],
   "source": [
    "objectName = 'Users'\n",
    "with open('{}/{}.csv'.format(clean_dir, objectName.lower()), 'w') as out_file:\n",
    "    with open('{}/{}.csv'.format(original_dir, objectName)) as in_file:\n",
    "        reader = csv.reader(in_file)\n",
    "        writer = csv.writer(out_file)\n",
    "        row = ['user_id', 'location', 'age']\n",
    "        writer.writerow(row)\n",
    "        next(reader)\n",
    "        c = 0\n",
    "        for line in reader:\n",
    "            user_id = int(line[0])\n",
    "            location = line[1].split(',')[-1].strip().lower()\n",
    "            age = int(float(line[2])) if len(line[2]) else 0\n",
    "            row = [user_id, location, age]\n",
    "            # print(row)\n",
    "            c += 1\n",
    "            writer.writerow(row)\n",
    "            # if c > 10: break\n"
   ]
  },
  {
   "cell_type": "code",
   "execution_count": null,
   "id": "cefbf52d-b260-4c33-9039-57c451fc3bc6",
   "metadata": {},
   "outputs": [],
   "source": [
    "objectName = 'Books'\n",
    "book_title_isbn = {}\n",
    "books = []\n",
    "with open('{}/{}.csv'.format(original_dir, objectName)) as in_file:\n",
    "    reader = csv.reader(in_file)\n",
    "    next(reader)\n",
    "    for line in reader:\n",
    "        try:\n",
    "            isbn = line[0]\n",
    "            title = line[1]\n",
    "            author = line[2]\n",
    "            search = title.lower() + ' ' + author.lower()\n",
    "            year = int(line[3])\n",
    "            publisher = line[4]\n",
    "            title_author = title + author\n",
    "            try:\n",
    "                isbn = book_title_isbn[title_author]\n",
    "            except:\n",
    "                book_title_isbn[title_author] = isbn\n",
    "                row = [isbn, title, search, author, year, publisher]\n",
    "            c += 1\n",
    "            writer.writerow(row)\n",
    "            # if c > 10: break\n",
    "        except Exception as exception:\n",
    "            print(line)\n",
    "            print(exception)\n"
   ]
  },
  {
   "cell_type": "code",
   "execution_count": null,
   "id": "f5789754-28e7-469b-b686-7d5ee44bfb73",
   "metadata": {},
   "outputs": [],
   "source": [
    "objectName = 'Books'\n",
    "book_title_isbn = {}\n",
    "isbn_map = {}\n",
    "isbns_all = []\n",
    "with open('{}/{}.csv'.format(clean_dir, objectName.lower()), 'w') as out_file:\n",
    "    with open('{}/{}.csv'.format(original_dir, objectName)) as in_file:\n",
    "        reader = csv.reader(in_file)\n",
    "        writer = csv.writer(out_file)\n",
    "        row = ['isbn', 'title', 'search', 'author', 'year', 'publisher']\n",
    "        writer.writerow(row)\n",
    "        next(reader)\n",
    "        for line in reader:\n",
    "            try:\n",
    "                isbn = line[0]\n",
    "                isbns_all.append(isbn)\n",
    "                title = line[1]\n",
    "                author = line[2]\n",
    "                search = title.lower() + ' ' + author.lower()\n",
    "                year = int(line[3])\n",
    "                publisher = line[4]\n",
    "                title_author = title + author                \n",
    "                try: # check if title_author already added, then add to isbn_map\n",
    "                    mapped_isbn = book_title_isbn[title_author]\n",
    "                    isbn_map[isbn] = mapped_isbn\n",
    "                except: # add title_author and isbn_map to self\n",
    "                    book_title_isbn[title_author] = isbn\n",
    "                    isbn_map[isbn] = isbn\n",
    "                    row = [isbn, title, search, author, year, publisher]\n",
    "                    writer.writerow(row)\n",
    "            except Exception as exception:\n",
    "                print(line)\n",
    "                print(exception)\n"
   ]
  },
  {
   "cell_type": "code",
   "execution_count": null,
   "id": "c620bb7f-0894-41a7-a3b6-d988c1d1b193",
   "metadata": {},
   "outputs": [],
   "source": [
    "objectName = 'Ratings'\n",
    "n_good = 0\n",
    "n_bad = 0\n",
    "not_isbns = []\n",
    "with open('{}/{}.csv'.format(clean_dir, objectName.lower()), 'w') as out_file:\n",
    "    with open('{}/{}.csv'.format(original_dir, objectName)) as in_file:\n",
    "        reader = csv.reader(in_file)\n",
    "        writer = csv.writer(out_file)\n",
    "        row = ['user_id', 'isbn', 'rating']\n",
    "        writer.writerow(row)\n",
    "        next(reader)\n",
    "        c = 0\n",
    "        for line in reader:\n",
    "            try:\n",
    "                user_id = int(line[0])\n",
    "                o_isbn = line[1]\n",
    "                isbn = isbn_map[o_isbn]\n",
    "                rating = int(line[2])\n",
    "                row = [user_id, isbn, rating]\n",
    "                c += 1\n",
    "                writer.writerow(row)\n",
    "                n_good += 1\n",
    "                # if c > 10: break\n",
    "            except Exception as exception:\n",
    "                not_isbns.append(o_isbn)\n",
    "                # print(line)\n",
    "                # print(exception)\n",
    "                # break\n",
    "                n_bad += 1\n",
    "print('n_good', n_good)\n",
    "print('n_bad', n_bad)\n"
   ]
  }
 ],
 "metadata": {
  "kernelspec": {
   "display_name": "Python 3 (ipykernel)",
   "language": "python",
   "name": "python3"
  },
  "language_info": {
   "codemirror_mode": {
    "name": "ipython",
    "version": 3
   },
   "file_extension": ".py",
   "mimetype": "text/x-python",
   "name": "python",
   "nbconvert_exporter": "python",
   "pygments_lexer": "ipython3",
   "version": "3.8.10"
  }
 },
 "nbformat": 4,
 "nbformat_minor": 5
}
